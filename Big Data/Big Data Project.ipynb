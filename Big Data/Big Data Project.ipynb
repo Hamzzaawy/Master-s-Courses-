{
 "cells": [
  {
   "cell_type": "markdown",
   "metadata": {
    "id": "dZML2LzWhdLY"
   },
   "source": [
    "## Import libraries and read data"
   ]
  },
  {
   "cell_type": "code",
   "execution_count": 129,
   "metadata": {
    "ExecuteTime": {
     "end_time": "2021-05-06T15:27:49.507165Z",
     "start_time": "2021-05-06T15:27:49.502973Z"
    },
    "id": "kCjsBv8hdHdE"
   },
   "outputs": [],
   "source": [
    "path = \"sparkify_data.json\""
   ]
  },
  {
   "cell_type": "code",
   "execution_count": 130,
   "metadata": {
    "ExecuteTime": {
     "end_time": "2021-05-06T15:27:50.398340Z",
     "start_time": "2021-05-06T15:27:50.390422Z"
    },
    "id": "AcWqaRhmdgGo"
   },
   "outputs": [],
   "source": [
    "from IPython.core.interactiveshell import InteractiveShell\n",
    "InteractiveShell.ast_node_interactivity = \"all\"\n",
    "import sys\n",
    "from pyspark.sql import SparkSession\n",
    "from pyspark.sql.functions import min as Fmin, max as Fmax, sum as Fsum, round as Fround\n",
    "from pyspark.sql.types import IntegerType, DateType, TimestampType\n",
    "from pyspark.sql.types import IntegerType, DateType, TimestampType\n",
    "from pyspark import SparkContext, SparkConf\n",
    "from pyspark.sql import Window\n",
    "from pyspark.sql.functions import udf, col, concat, count, lit, avg, lag, first, last, when\n",
    "\n",
    "from time import time\n",
    "import datetime\n",
    "import matplotlib.pyplot as plt\n",
    "import seaborn as sns\n",
    "import datetime\n",
    "import numpy as np\n",
    "import pandas as pd\n",
    "\n",
    "from pyspark.ml import Pipeline\n",
    "from pyspark.ml.feature import VectorAssembler, Normalizer, StandardScaler\n",
    "from pyspark.ml.regression import LinearRegression\n",
    "from pyspark.ml.classification import LogisticRegression, DecisionTreeClassifier, LinearSVC\n",
    "from pyspark.ml.clustering import KMeans\n",
    "from pyspark.ml.tuning import CrossValidator, ParamGridBuilder\n",
    "from pyspark.ml.evaluation import BinaryClassificationEvaluator, Evaluator\n",
    "\n",
    "from pyspark.ml.feature import CountVectorizer, IDF, Normalizer, PCA, RegexTokenizer, StandardScaler, StopWordsRemover, StringIndexer, VectorAssembler\n",
    "from pyspark.ml.feature import OneHotEncoder, StringIndexer\n",
    "from pyspark.ml.evaluation import MulticlassClassificationEvaluator\n",
    "from pyspark.mllib.evaluation import MulticlassMetrics"
   ]
  },
  {
   "cell_type": "code",
   "execution_count": 131,
   "metadata": {
    "ExecuteTime": {
     "end_time": "2021-05-06T15:27:52.202659Z",
     "start_time": "2021-05-06T15:27:52.196567Z"
    },
    "id": "sUkimKU_e0gu"
   },
   "outputs": [],
   "source": [
    "# Create spark session\n",
    "spark = SparkSession.builder \\\n",
    ".master(\"local\") \\\n",
    ".appName(\"Analysis\") \\\n",
    ".getOrCreate()"
   ]
  },
  {
   "cell_type": "code",
   "execution_count": 132,
   "metadata": {
    "ExecuteTime": {
     "end_time": "2021-05-06T15:27:55.281379Z",
     "start_time": "2021-05-06T15:27:53.473376Z"
    },
    "colab": {
     "base_uri": "https://localhost:8080/"
    },
    "id": "whu0NoagfE4n",
    "outputId": "fd361088-a35d-4d97-fa6a-2c1f3f542254"
   },
   "outputs": [
    {
     "name": "stdout",
     "output_type": "stream",
     "text": [
      "Number of instances - 286500 \n",
      "Number of attributes - 18 \n"
     ]
    }
   ],
   "source": [
    "# read data file\n",
    "df = spark.read.json(path)\n",
    "\n",
    "#count of instances and attributes\n",
    "print(\"Number of instances - %g \" %df.count())\n",
    "print(\"Number of attributes - %g \" %len(df.take(1)[0]))"
   ]
  },
  {
   "cell_type": "code",
   "execution_count": 5,
   "metadata": {
    "ExecuteTime": {
     "end_time": "2021-05-03T00:21:07.700227Z",
     "start_time": "2021-05-03T00:21:07.688143Z"
    },
    "colab": {
     "base_uri": "https://localhost:8080/"
    },
    "id": "omeuJPGHfT7e",
    "outputId": "a9572350-631b-4583-b313-20adebf21507"
   },
   "outputs": [
    {
     "name": "stdout",
     "output_type": "stream",
     "text": [
      "root\n",
      " |-- artist: string (nullable = true)\n",
      " |-- auth: string (nullable = true)\n",
      " |-- firstName: string (nullable = true)\n",
      " |-- gender: string (nullable = true)\n",
      " |-- itemInSession: long (nullable = true)\n",
      " |-- lastName: string (nullable = true)\n",
      " |-- length: double (nullable = true)\n",
      " |-- level: string (nullable = true)\n",
      " |-- location: string (nullable = true)\n",
      " |-- method: string (nullable = true)\n",
      " |-- page: string (nullable = true)\n",
      " |-- registration: long (nullable = true)\n",
      " |-- sessionId: long (nullable = true)\n",
      " |-- song: string (nullable = true)\n",
      " |-- status: long (nullable = true)\n",
      " |-- ts: long (nullable = true)\n",
      " |-- userAgent: string (nullable = true)\n",
      " |-- userId: string (nullable = true)\n",
      "\n"
     ]
    }
   ],
   "source": [
    "df.printSchema()"
   ]
  },
  {
   "cell_type": "markdown",
   "metadata": {
    "id": "3fw8Q2OwhmkA"
   },
   "source": [
    "## Data Preprocessing"
   ]
  },
  {
   "cell_type": "code",
   "execution_count": 6,
   "metadata": {
    "ExecuteTime": {
     "end_time": "2021-05-03T00:21:26.358910Z",
     "start_time": "2021-05-03T00:21:07.701725Z"
    },
    "colab": {
     "base_uri": "https://localhost:8080/"
    },
    "id": "6uZ94xl2fg0G",
    "outputId": "d74f2458-da91-488b-9291-04e1245563c9"
   },
   "outputs": [
    {
     "name": "stdout",
     "output_type": "stream",
     "text": [
      "Number of unique users - 226 \n",
      "Number of sessions - 2354 \n",
      "Number of valid instances - 278154 \n"
     ]
    }
   ],
   "source": [
    "# remove duplicates from userID\n",
    "unique_users = df.select(\"userId\").dropDuplicates()\n",
    "print(\"Number of unique users - %g \" %unique_users.count())\n",
    "\n",
    "# remove duplicates from sessionId\n",
    "unique_sessions = df.select('sessionId').dropDuplicates()\n",
    "print(\"Number of sessions - %g \" %unique_sessions.count())\n",
    "\n",
    "#remove missing values\n",
    "users = df.dropna(how = \"any\", subset = [\"userId\", \"sessionId\"])\n",
    "#remove invalid userID\n",
    "users = users.filter(users[\"userId\"] != \"\")\n",
    "print(\"Number of valid instances - %g \" %users.count())"
   ]
  },
  {
   "cell_type": "markdown",
   "metadata": {
    "ExecuteTime": {
     "end_time": "2021-04-21T09:14:30.363612Z",
     "start_time": "2021-04-21T09:14:30.361163Z"
    }
   },
   "source": [
    "#### Missing values"
   ]
  },
  {
   "cell_type": "code",
   "execution_count": 7,
   "metadata": {
    "ExecuteTime": {
     "end_time": "2021-05-03T00:21:46.030448Z",
     "start_time": "2021-05-03T00:21:26.381212Z"
    }
   },
   "outputs": [
    {
     "data": {
      "text/plain": [
       "<Figure size 1296x432 with 0 Axes>"
      ]
     },
     "execution_count": 7,
     "metadata": {},
     "output_type": "execute_result"
    },
    {
     "data": {
      "text/plain": [
       "<matplotlib.axes._subplots.AxesSubplot at 0x7f0fb53e3128>"
      ]
     },
     "execution_count": 7,
     "metadata": {},
     "output_type": "execute_result"
    },
    {
     "data": {
      "image/png": "[encoded data removed]",
      "text/plain": [
       "<Figure size 1296x432 with 1 Axes>"
      ]
     },
     "metadata": {
      "needs_background": "light"
     },
     "output_type": "display_data"
    }
   ],
   "source": [
    "plt.figure(figsize=(18,6))\n",
    "sns.heatmap(df.toPandas().isnull(),cbar=False)"
   ]
  },
  {
   "cell_type": "code",
   "execution_count": 8,
   "metadata": {
    "ExecuteTime": {
     "end_time": "2021-05-03T00:21:47.488410Z",
     "start_time": "2021-05-03T00:21:46.033293Z"
    }
   },
   "outputs": [
    {
     "name": "stdout",
     "output_type": "stream",
     "text": [
      "number of non registered users 8346\n"
     ]
    }
   ],
   "source": [
    "registered = df.dropna(how = \"any\", subset = [\"registration\"])\n",
    "non_registered_users = df.count() - registered.count()\n",
    "print(\"number of non registered users %g\" %non_registered_users)"
   ]
  },
  {
   "cell_type": "code",
   "execution_count": 9,
   "metadata": {
    "ExecuteTime": {
     "end_time": "2021-05-03T00:21:56.997442Z",
     "start_time": "2021-05-03T00:21:47.490456Z"
    }
   },
   "outputs": [
    {
     "name": "stdout",
     "output_type": "stream",
     "text": [
      "Home                         14457\n",
      "Thumbs Up                    12551\n",
      "Add to Playlist               6526\n",
      "Add Friend                    4277\n",
      "Roll Advert                   3933\n",
      "Login                         3241\n",
      "Logout                        3226\n",
      "Thumbs Down                   2546\n",
      "Downgrade                     2055\n",
      "Help                          1726\n",
      "Settings                      1514\n",
      "About                          924\n",
      "Upgrade                        499\n",
      "Save Settings                  310\n",
      "Error                          258\n",
      "Submit Upgrade                 159\n",
      "Submit Downgrade                63\n",
      "Cancellation Confirmation       52\n",
      "Cancel                          52\n",
      "Register                        18\n",
      "Submit Registration              5\n",
      "Name: page, dtype: int64\n"
     ]
    }
   ],
   "source": [
    "df_pd = df.toPandas()\n",
    "page_info_with_missing_song_info = df_pd[df_pd.artist.isnull()]['page'].value_counts()\n",
    "print(page_info_with_missing_song_info)"
   ]
  },
  {
   "cell_type": "code",
   "execution_count": 10,
   "metadata": {
    "ExecuteTime": {
     "end_time": "2021-05-03T00:21:57.086742Z",
     "start_time": "2021-05-03T00:21:56.999143Z"
    },
    "id": "axmBECRva4vr"
   },
   "outputs": [],
   "source": [
    "df = df.dropna(how = \"any\", subset = [\"userId\", \"sessionId\"])\n",
    "df = df.filter(df[\"userId\"] != \"\")"
   ]
  },
  {
   "cell_type": "code",
   "execution_count": 11,
   "metadata": {
    "ExecuteTime": {
     "end_time": "2021-05-03T00:21:57.090506Z",
     "start_time": "2021-05-03T00:21:57.088562Z"
    },
    "colab": {
     "base_uri": "https://localhost:8080/"
    },
    "id": "sg2ZCYvOhT2G",
    "outputId": "4cfaa4da-fd3c-4b15-fef3-0a5ed2aa61ea"
   },
   "outputs": [],
   "source": [
    "# df.count()\n",
    "# Data=pd.read_csv(\"sparkify_data.json\")\n",
    "# Data.describe()"
   ]
  },
  {
   "cell_type": "code",
   "execution_count": 12,
   "metadata": {
    "ExecuteTime": {
     "end_time": "2021-05-03T00:21:57.500085Z",
     "start_time": "2021-05-03T00:21:57.091908Z"
    },
    "colab": {
     "base_uri": "https://localhost:8080/"
    },
    "id": "X7E9o2KihYut",
    "outputId": "bed80df3-3ee3-4032-8cfb-0890fc8c4625"
   },
   "outputs": [
    {
     "name": "stdout",
     "output_type": "stream",
     "text": [
      "+----------------+---------+---------+------+-------------+--------+---------+-----+--------------------+------+--------+\n",
      "|          artist|     auth|firstName|gender|itemInSession|lastName|   length|level|            location|method|    page|\n",
      "+----------------+---------+---------+------+-------------+--------+---------+-----+--------------------+------+--------+\n",
      "|  Martha Tilston|Logged In|    Colin|     M|           50| Freeman|277.89016| paid|     Bakersfield, CA|   PUT|NextSong|\n",
      "|Five Iron Frenzy|Logged In|    Micah|     M|           79|    Long|236.09424| free|Boston-Cambridge-...|   PUT|NextSong|\n",
      "|    Adam Lambert|Logged In|    Colin|     M|           51| Freeman| 282.8273| paid|     Bakersfield, CA|   PUT|NextSong|\n",
      "|          Enigma|Logged In|    Micah|     M|           80|    Long|262.71302| free|Boston-Cambridge-...|   PUT|NextSong|\n",
      "|       Daft Punk|Logged In|    Colin|     M|           52| Freeman|223.60771| paid|     Bakersfield, CA|   PUT|NextSong|\n",
      "+----------------+---------+---------+------+-------------+--------+---------+-----+--------------------+------+--------+\n",
      "only showing top 5 rows\n",
      "\n"
     ]
    }
   ],
   "source": [
    "df.select(['artist', 'auth', 'firstName', 'gender', 'itemInSession', 'lastName',\n",
    "           'length', 'level', 'location', 'method', 'page']).show(5)"
   ]
  },
  {
   "cell_type": "code",
   "execution_count": 13,
   "metadata": {
    "ExecuteTime": {
     "end_time": "2021-05-03T00:21:57.911688Z",
     "start_time": "2021-05-03T00:21:57.502837Z"
    },
    "colab": {
     "base_uri": "https://localhost:8080/"
    },
    "id": "lT4dEtYFiTLH",
    "outputId": "21db4708-7cf5-4933-f0ae-32e329ca8222"
   },
   "outputs": [
    {
     "name": "stdout",
     "output_type": "stream",
     "text": [
      "+------+---------+-------------+---------+-----+----------+-------------+\n",
      "|userId|sessionId|itemInSession|     auth|level|      page|           ts|\n",
      "+------+---------+-------------+---------+-----+----------+-------------+\n",
      "|    25|      222|            0|Logged In| paid|  NextSong|1538369228000|\n",
      "|    25|      222|            1|Logged In| paid|  NextSong|1538369407000|\n",
      "|    25|      222|            2|Logged In| paid|  NextSong|1538369571000|\n",
      "|    25|      222|            3|Logged In| paid|      Home|1538369625000|\n",
      "|    25|      222|            4|Logged In| paid|  NextSong|1538369836000|\n",
      "|    25|      222|            5|Logged In| paid|  NextSong|1538370013000|\n",
      "|    25|      222|            6|Logged In| paid|Add Friend|1538370014000|\n",
      "|    25|      222|            7|Logged In| paid|  NextSong|1538370161000|\n",
      "|    25|      222|            8|Logged In| paid|  NextSong|1538370400000|\n",
      "|    25|      222|            9|Logged In| paid|  NextSong|1538370679000|\n",
      "|    25|      222|           10|Logged In| paid|  NextSong|1538370934000|\n",
      "|    25|      222|           11|Logged In| paid|  NextSong|1538371116000|\n",
      "|    25|      222|           12|Logged In| paid|  NextSong|1538371341000|\n",
      "|    25|      222|           13|Logged In| paid| Thumbs Up|1538371342000|\n",
      "|    25|      222|           14|Logged In| paid|  NextSong|1538371613000|\n",
      "|    25|      222|           15|Logged In| paid|  NextSong|1538371796000|\n",
      "|    25|      222|           16|Logged In| paid|  NextSong|1538372116000|\n",
      "|    25|      222|           17|Logged In| paid|  NextSong|1538372466000|\n",
      "|    25|      222|           18|Logged In| paid|  NextSong|1538372735000|\n",
      "|    25|      222|           19|Logged In| paid|  NextSong|1538372947000|\n",
      "+------+---------+-------------+---------+-----+----------+-------------+\n",
      "only showing top 20 rows\n",
      "\n"
     ]
    }
   ],
   "source": [
    "# sample user data\n",
    "df.where(df.userId == 25).select(['userId','sessionId','itemInSession','auth','level','page','ts']).show(20)"
   ]
  },
  {
   "cell_type": "markdown",
   "metadata": {},
   "source": [
    "#### Timestamp data"
   ]
  },
  {
   "cell_type": "code",
   "execution_count": 14,
   "metadata": {
    "ExecuteTime": {
     "end_time": "2021-05-03T00:22:00.362786Z",
     "start_time": "2021-05-03T00:21:57.914423Z"
    }
   },
   "outputs": [
    {
     "name": "stdout",
     "output_type": "stream",
     "text": [
      "Start time 2018-10-01 02:01:57\n",
      "End time 2018-12-03 02:11:16\n"
     ]
    }
   ],
   "source": [
    "#Max and Min timestamps\n",
    "min_ts = df.select('ts').groupby().min('ts').collect()\n",
    "max_ts = df.select('ts').groupby().max('ts').collect()\n",
    "\n",
    "min_time = datetime.datetime.fromtimestamp(min_ts[0][0]/1000.0).strftime(\"%Y-%m-%d %H:%M:%S\")\n",
    "max_time = datetime.datetime.fromtimestamp(max_ts[0][0]/1000.0).strftime(\"%Y-%m-%d %H:%M:%S\")\n",
    "\n",
    "print(\"Start time %s\" %min_time)\n",
    "print(\"End time %s\" %max_time)"
   ]
  },
  {
   "cell_type": "code",
   "execution_count": 15,
   "metadata": {
    "ExecuteTime": {
     "end_time": "2021-05-03T00:22:00.429894Z",
     "start_time": "2021-05-03T00:22:00.364674Z"
    },
    "id": "CVvGnDgsjcPm"
   },
   "outputs": [],
   "source": [
    "# create readable timestamp\n",
    "df = df.withColumn('tsDate', (df['ts'] / 1000).cast(TimestampType()))"
   ]
  },
  {
   "cell_type": "code",
   "execution_count": 16,
   "metadata": {
    "ExecuteTime": {
     "end_time": "2021-05-03T00:22:01.909341Z",
     "start_time": "2021-05-03T00:22:00.431823Z"
    },
    "colab": {
     "base_uri": "https://localhost:8080/"
    },
    "id": "Uv7_nKGNj6_-",
    "outputId": "eddd81b8-c2ad-45a1-b7d0-d55638a0d833"
   },
   "outputs": [
    {
     "name": "stdout",
     "output_type": "stream",
     "text": [
      "+------+---------------+-------------------+\n",
      "|userId|           page|             tsDate|\n",
      "+------+---------------+-------------------+\n",
      "|    30|       NextSong|2018-10-01 02:01:57|\n",
      "|     9|       NextSong|2018-10-01 02:03:00|\n",
      "|    30|       NextSong|2018-10-01 02:06:34|\n",
      "|     9|       NextSong|2018-10-01 02:06:56|\n",
      "|    30|       NextSong|2018-10-01 02:11:16|\n",
      "|     9|       NextSong|2018-10-01 02:11:18|\n",
      "|     9|       NextSong|2018-10-01 02:14:46|\n",
      "|    30|       NextSong|2018-10-01 02:14:59|\n",
      "|    30|Add to Playlist|2018-10-01 02:15:05|\n",
      "|    30|       NextSong|2018-10-01 02:18:04|\n",
      "+------+---------------+-------------------+\n",
      "only showing top 10 rows\n",
      "\n"
     ]
    }
   ],
   "source": [
    "df.select('userId', 'page', 'tsDate').sort('ts').show(10)"
   ]
  },
  {
   "cell_type": "markdown",
   "metadata": {
    "id": "ogHCFRkmbKl8"
   },
   "source": [
    "## Data Analysis"
   ]
  },
  {
   "cell_type": "code",
   "execution_count": 17,
   "metadata": {
    "ExecuteTime": {
     "end_time": "2021-05-03T00:22:15.331763Z",
     "start_time": "2021-05-03T00:22:01.911405Z"
    },
    "id": "mkM2NCdHkL3m"
   },
   "outputs": [
    {
     "name": "stdout",
     "output_type": "stream",
     "text": [
      "gender based on App users\n",
      "  gender  count\n",
      "0      F    104\n",
      "1      M    121\n",
      "Gender based on activity\n",
      "  gender   count\n",
      "0      F  154578\n",
      "1      M  123576\n"
     ]
    }
   ],
   "source": [
    "\n",
    "unique_user_gender =  df.select(['userId','gender']).dropDuplicates().dropna().groupby('gender').count().toPandas() \n",
    "tot_unique_sex = (unique_user_gender.set_index('gender') / sum(unique_user_gender['count']))\n",
    "print(\"gender based on App users\")\n",
    "print(unique_user_gender)\n",
    "\n",
    "sex = df.select(['userId','gender']).dropna().groupby('gender').count().toPandas()\n",
    "tot_sex = (sex.set_index('gender') / sum(sex['count']))\n",
    "sex_activity = df.groupby('gender').count().toPandas()\n",
    "tot_sex_activity = (sex_activity.set_index('gender') / sum(sex_activity['count']))\n",
    "\n",
    "print(\"Gender based on activity\")\n",
    "print(sex)"
   ]
  },
  {
   "cell_type": "code",
   "execution_count": 18,
   "metadata": {
    "ExecuteTime": {
     "end_time": "2021-05-03T00:22:15.797536Z",
     "start_time": "2021-05-03T00:22:15.333246Z"
    },
    "colab": {
     "base_uri": "https://localhost:8080/",
     "height": 285
    },
    "id": "7ACyOqEBlHf1",
    "outputId": "ddeb6078-12f4-43a0-c958-60408533cd1b"
   },
   "outputs": [
    {
     "data": {
      "text/plain": [
       "<matplotlib.axes._subplots.AxesSubplot at 0x7f0f69d9e208>"
      ]
     },
     "execution_count": 18,
     "metadata": {},
     "output_type": "execute_result"
    },
    {
     "data": {
      "text/plain": [
       "Text(0, 0.5, 'Share')"
      ]
     },
     "execution_count": 18,
     "metadata": {},
     "output_type": "execute_result"
    },
    {
     "data": {
      "image/png": "[encoded data removed]",
      "text/plain": [
       "<Figure size 576x288 with 1 Axes>"
      ]
     },
     "metadata": {
      "needs_background": "light"
     },
     "output_type": "display_data"
    }
   ],
   "source": [
    "diff = tot_unique_sex.merge(tot_sex_activity, on='gender')\n",
    "diff.columns = ['App Users', 'Activity']\n",
    "\n",
    "plt.rcParams['figure.figsize'] = (8,4)\n",
    "plt.rcParams.update({'font.size': 12})\n",
    "colors = [\"windows blue\", \"faded orange\"]\n",
    "palette = sns.xkcd_palette(colors)\n",
    "color1 = palette[0]\n",
    "color2 = palette[1]\n",
    "diff.transpose().plot.bar(rot = 0, color = [color1, color2]);\n",
    "plt.ylabel('Share');\n",
    "plt.savefig('gender')"
   ]
  },
  {
   "cell_type": "markdown",
   "metadata": {
    "id": "8xPofZ5pc0rS"
   },
   "source": [
    "there is more male users using the application but higher share of logs are from the female users."
   ]
  },
  {
   "cell_type": "code",
   "execution_count": 19,
   "metadata": {
    "ExecuteTime": {
     "end_time": "2021-05-03T00:22:28.818507Z",
     "start_time": "2021-05-03T00:22:15.799393Z"
    },
    "id": "Y7o5k6yIlNSN"
   },
   "outputs": [
    {
     "name": "stdout",
     "output_type": "stream",
     "text": [
      "  level  count\n",
      "0  free    195\n",
      "1  paid    165\n"
     ]
    }
   ],
   "source": [
    "level_data =  df.select(['userId','level']).dropDuplicates().dropna().groupby('level').count().toPandas() \n",
    "tot_level = (level_data.set_index('level') / sum(level_data['count']))\n",
    "print(level_data)\n",
    "\n",
    "tier_analysis = df.groupby(['userId'])\\\n",
    ".agg(Fsum(when(col('level') == 'free', 1).otherwise(0)).alias('freeTier'),\n",
    "     Fsum(when(col('level')=='paid', 1).otherwise(0)).alias('paidTier'))\n",
    "\n",
    "tier_analysis = tier_analysis.withColumn('share', col('freeTier') / (col('freeTier') + col('paidTier')))\n",
    "tier_analysis_pd = tier_analysis.toPandas()\n",
    "\n"
   ]
  },
  {
   "cell_type": "code",
   "execution_count": 20,
   "metadata": {
    "ExecuteTime": {
     "end_time": "2021-05-03T00:22:29.489799Z",
     "start_time": "2021-05-03T00:22:28.820379Z"
    },
    "colab": {
     "base_uri": "https://localhost:8080/",
     "height": 377
    },
    "id": "QbKVfUIGnjn2",
    "outputId": "7e4f7ce7-7c08-442d-8690-688248a300d9"
   },
   "outputs": [
    {
     "data": {
      "text/plain": [
       "<matplotlib.axes._subplots.AxesSubplot at 0x7f0f69dba198>"
      ]
     },
     "execution_count": 20,
     "metadata": {},
     "output_type": "execute_result"
    },
    {
     "data": {
      "text/plain": [
       "Text(0, 0.5, 'User Count')"
      ]
     },
     "execution_count": 20,
     "metadata": {},
     "output_type": "execute_result"
    },
    {
     "data": {
      "text/plain": [
       "Text(0.5, 0, 'Logs in the free plan / all logs')"
      ]
     },
     "execution_count": 20,
     "metadata": {},
     "output_type": "execute_result"
    },
    {
     "data": {
      "image/png": "[encoded data removed]",
      "text/plain": [
       "<Figure size 720x360 with 1 Axes>"
      ]
     },
     "metadata": {
      "needs_background": "light"
     },
     "output_type": "display_data"
    }
   ],
   "source": [
    "plt.rcParams['figure.figsize'] = (10,5)\n",
    "tier_analysis_pd['share'].plot.hist(bins = 50,  color = color1);\n",
    "plt.ylabel('User Count');\n",
    "plt.xlabel('Logs in the free plan / all logs');\n",
    "plt.savefig('Subscription Change')"
   ]
  },
  {
   "cell_type": "markdown",
   "metadata": {
    "id": "O8uefCb3fbgM"
   },
   "source": [
    "From the histogram above we can see that the majority of users seems to stick to their subscription plan, as more than 40 users (out of 225) interacted with the service mostly using the premium service, and around 60 stayed in the free tier throughout the entire observation period."
   ]
  },
  {
   "cell_type": "code",
   "execution_count": 21,
   "metadata": {
    "ExecuteTime": {
     "end_time": "2021-05-03T00:22:32.180887Z",
     "start_time": "2021-05-03T00:22:29.491677Z"
    },
    "colab": {
     "base_uri": "https://localhost:8080/"
    },
    "id": "dwKcG7tBntdN",
    "outputId": "b7fddd7e-0945-4642-bd4b-e85c7dd96e59"
   },
   "outputs": [
    {
     "name": "stdout",
     "output_type": "stream",
     "text": [
      "+--------------------+------+\n",
      "|                page| count|\n",
      "+--------------------+------+\n",
      "|            NextSong|228108|\n",
      "|           Thumbs Up| 12551|\n",
      "|                Home| 10082|\n",
      "|     Add to Playlist|  6526|\n",
      "|          Add Friend|  4277|\n",
      "|         Roll Advert|  3933|\n",
      "|              Logout|  3226|\n",
      "|         Thumbs Down|  2546|\n",
      "|           Downgrade|  2055|\n",
      "|            Settings|  1514|\n",
      "|                Help|  1454|\n",
      "|             Upgrade|   499|\n",
      "|               About|   495|\n",
      "|       Save Settings|   310|\n",
      "|               Error|   252|\n",
      "|      Submit Upgrade|   159|\n",
      "|    Submit Downgrade|    63|\n",
      "|              Cancel|    52|\n",
      "|Cancellation Conf...|    52|\n",
      "+--------------------+------+\n",
      "\n"
     ]
    }
   ],
   "source": [
    "df.groupby('page').count().sort('count', ascending = False).show(20)"
   ]
  },
  {
   "cell_type": "code",
   "execution_count": 144,
   "metadata": {
    "ExecuteTime": {
     "end_time": "2021-05-07T15:30:22.843603Z",
     "start_time": "2021-05-07T15:30:17.858011Z"
    },
    "colab": {
     "base_uri": "https://localhost:8080/",
     "height": 463
    },
    "id": "ia1_7CN0peR7",
    "outputId": "99f30752-d3de-4187-f6fc-3c9e0a54fff4"
   },
   "outputs": [
    {
     "data": {
      "text/plain": [
       "<matplotlib.axes._subplots.AxesSubplot at 0x7f0db99dafd0>"
      ]
     },
     "execution_count": 144,
     "metadata": {},
     "output_type": "execute_result"
    },
    {
     "data": {
      "text/plain": [
       "Text(0.5, 0, '')"
      ]
     },
     "execution_count": 144,
     "metadata": {},
     "output_type": "execute_result"
    },
    {
     "data": {
      "text/plain": [
       "Text(0, 0.5, 'Frequency')"
      ]
     },
     "execution_count": 144,
     "metadata": {},
     "output_type": "execute_result"
    },
    {
     "data": {
      "text/plain": [
       "Text(0.5, 1.0, 'Interaction type distribution using log scale')"
      ]
     },
     "execution_count": 144,
     "metadata": {},
     "output_type": "execute_result"
    },
    {
     "data": {
      "image/png": "[encoded data removed]",
      "text/plain": [
       "<Figure size 720x504 with 1 Axes>"
      ]
     },
     "metadata": {},
     "output_type": "display_data"
    }
   ],
   "source": [
    "page_pd = df.groupby('page').count().sort('count', ascending = False).toPandas()\n",
    "page_pd['Subset'] = page_pd['count'] / sum(page_pd['count'])\n",
    "# diff_pd = page_pd_full.merge(page_pd, on = 'page')\n",
    "\n",
    "plt.rcParams['figure.figsize'] = (10,7)\n",
    "# page_pd.plot(x='page', y= 'Subset', kind = \"bar\",  color = [color1]);\n",
    "page_pd.plot(x='page', y= 'Subset', kind = \"bar\",  color = [color1], logy = True);\n",
    "plt.xlabel(\"\");\n",
    "plt.ylabel(\"Frequency\");\n",
    "plt.title(\"Interaction type distribution using log scale\");\n",
    "plt.subplots_adjust(left=0.1, right=0.9, top=0.95, bottom=0.45);\n",
    "plt.savefig('interactiontype1');\n",
    "plt.legend().remove()"
   ]
  },
  {
   "cell_type": "markdown",
   "metadata": {
    "id": "4x_-9JoTgU36"
   },
   "source": [
    "We are not able to investigate the actual distribution of the other pages because of the dominance of the NextSong page."
   ]
  },
  {
   "cell_type": "code",
   "execution_count": 23,
   "metadata": {
    "ExecuteTime": {
     "end_time": "2021-05-03T00:22:37.620614Z",
     "start_time": "2021-05-03T00:22:37.612272Z"
    }
   },
   "outputs": [
    {
     "name": "stdout",
     "output_type": "stream",
     "text": [
      "       page   count    Subset\n",
      "0  NextSong  228108  0.820078\n"
     ]
    }
   ],
   "source": [
    "nextPage_count = page_pd[page_pd['page']=='NextSong']\n",
    "print(nextPage_count)"
   ]
  },
  {
   "cell_type": "code",
   "execution_count": 139,
   "metadata": {
    "ExecuteTime": {
     "end_time": "2021-05-06T15:31:58.501361Z",
     "start_time": "2021-05-06T15:31:57.734983Z"
    },
    "colab": {
     "base_uri": "https://localhost:8080/",
     "height": 500
    },
    "id": "Zvyao2zGp25d",
    "outputId": "c0ee000d-02ad-4084-f33c-ae52212ceb3e"
   },
   "outputs": [
    {
     "data": {
      "text/plain": [
       "<matplotlib.axes._subplots.AxesSubplot at 0x7f0f6ce84470>"
      ]
     },
     "execution_count": 139,
     "metadata": {},
     "output_type": "execute_result"
    },
    {
     "data": {
      "text/plain": [
       "Text(0.5, 0, '')"
      ]
     },
     "execution_count": 139,
     "metadata": {},
     "output_type": "execute_result"
    },
    {
     "data": {
      "text/plain": [
       "Text(0, 0.5, 'Frequency')"
      ]
     },
     "execution_count": 139,
     "metadata": {},
     "output_type": "execute_result"
    },
    {
     "data": {
      "text/plain": [
       "Text(0.5, 1.0, 'Interaction type distribution (ex NextSong)')"
      ]
     },
     "execution_count": 139,
     "metadata": {},
     "output_type": "execute_result"
    },
    {
     "data": {
      "image/png": "[encoded data removed]",
      "text/plain": [
       "<Figure size 720x504 with 1 Axes>"
      ]
     },
     "metadata": {},
     "output_type": "display_data"
    }
   ],
   "source": [
    "page_pd[page_pd['page']!='NextSong'].plot(x='page', y= 'Subset', kind = \"bar\", color = [color2]);\n",
    "\n",
    "plt.rcParams['figure.figsize'] = (10,7)\n",
    "plt.xlabel(\"\");\n",
    "plt.ylabel(\"Frequency\");\n",
    "plt.title(\"Interaction type distribution (ex NextSong)\");\n",
    "plt.subplots_adjust(left=0.1, right=0.9, top=0.95, bottom=0.45);\n",
    "plt.savefig('interactiontype2')\n",
    "plt.legend().remove()"
   ]
  },
  {
   "cell_type": "code",
   "execution_count": 25,
   "metadata": {
    "ExecuteTime": {
     "end_time": "2021-05-03T00:22:40.098614Z",
     "start_time": "2021-05-03T00:22:38.302188Z"
    },
    "colab": {
     "base_uri": "https://localhost:8080/"
    },
    "id": "sG88iPVGqrVW",
    "outputId": "5c295c70-cd0a-49ea-d083-8c86e39323ba"
   },
   "outputs": [
    {
     "name": "stdout",
     "output_type": "stream",
     "text": [
      "+------+---------+---------+------+-------------+---------+------+-----+--------------------+------+--------------------+-------------+---------+----+------+-------------+--------------------+------+-------------------+\n",
      "|artist|     auth|firstName|gender|itemInSession| lastName|length|level|            location|method|                page| registration|sessionId|song|status|           ts|           userAgent|userId|             tsDate|\n",
      "+------+---------+---------+------+-------------+---------+------+-----+--------------------+------+--------------------+-------------+---------+----+------+-------------+--------------------+------+-------------------+\n",
      "|  null|Cancelled|   Adriel|     M|          104|  Mendoza|  null| paid|  Kansas City, MO-KS|   GET|Cancellation Conf...|1535623466000|      514|null|   200|1538943990000|\"Mozilla/5.0 (Mac...|    18|2018-10-07 22:26:30|\n",
      "|  null|Cancelled|    Diego|     M|           56|    Mckee|  null| paid|Phoenix-Mesa-Scot...|   GET|Cancellation Conf...|1537167593000|      540|null|   200|1539033046000|\"Mozilla/5.0 (iPh...|    32|2018-10-08 23:10:46|\n",
      "|  null|Cancelled|    Mason|     M|           10|     Hart|  null| free|  Corpus Christi, TX|   GET|Cancellation Conf...|1533157139000|      174|null|   200|1539318918000|\"Mozilla/5.0 (Mac...|   125|2018-10-12 06:35:18|\n",
      "|  null|Cancelled|Alexander|     M|          332|   Garcia|  null| paid|Indianapolis-Carm...|   GET|Cancellation Conf...|1536817381000|      508|null|   200|1539375441000|Mozilla/5.0 (Wind...|   105|2018-10-12 22:17:21|\n",
      "|  null|Cancelled|    Kayla|     F|          273|  Johnson|  null| paid|Philadelphia-Camd...|   GET|Cancellation Conf...|1538333829000|      797|null|   200|1539465584000|Mozilla/5.0 (Wind...|    17|2018-10-13 23:19:44|\n",
      "|  null|Cancelled|    Molly|     F|           29| Harrison|  null| free|Virginia Beach-No...|   GET|Cancellation Conf...|1534255113000|      843|null|   200|1539588854000|\"Mozilla/5.0 (Mac...|   143|2018-10-15 09:34:14|\n",
      "|  null|Cancelled|     Alex|     M|          145|    Hogan|  null| paid|Denver-Aurora-Lak...|   GET|Cancellation Conf...|1535066380000|      842|null|   200|1539729037000|Mozilla/5.0 (Wind...|   101|2018-10-17 00:30:37|\n",
      "|  null|Cancelled|    Davis|     M|           34|     Wang|  null| paid|           Flint, MI|   GET|Cancellation Conf...|1538289776000|      802|null|   200|1539736161000|\"Mozilla/5.0 (Win...|   129|2018-10-17 02:29:21|\n",
      "|  null|Cancelled|  Nikolas|     M|          287|    Olsen|  null| paid|Oxnard-Thousand O...|   GET|Cancellation Conf...|1528403713000|      881|null|   200|1539759749000|Mozilla/5.0 (X11;...|   121|2018-10-17 09:02:29|\n",
      "|  null|Cancelled|    Ethan|     M|          176|  Johnson|  null| paid|Lexington-Fayette...|   GET|Cancellation Conf...|1538080987000|      934|null|   200|1539761972000|\"Mozilla/5.0 (Win...|    51|2018-10-17 09:39:32|\n",
      "|  null|Cancelled|Christian|     M|          100| Robinson|  null| paid|       Quincy, IL-MO|   GET|Cancellation Conf...|1534942082000|     1092|null|   200|1540050556000|\"Mozilla/5.0 (Win...|    87|2018-10-20 17:49:16|\n",
      "|  null|Cancelled|    Molly|     F|           43|Patterson|  null| paid|   Memphis, TN-MS-AR|   GET|Cancellation Conf...|1535498705000|     1029|null|   200|1540062068000|Mozilla/5.0 (X11;...|   122|2018-10-20 21:01:08|\n",
      "|  null|Cancelled|   Sophia|     F|           72|    Perry|  null| paid|Los Angeles-Long ...|   GET|Cancellation Conf...|1533885783000|     1072|null|   200|1540193374000|Mozilla/5.0 (Wind...|    12|2018-10-22 09:29:34|\n",
      "|  null|Cancelled|    Erick|     M|           48|   Brooks|  null| paid|           Selma, AL|   GET|Cancellation Conf...|1537956751000|     1112|null|   200|1540223006000|\"Mozilla/5.0 (Win...|    58|2018-10-22 17:43:26|\n",
      "|  null|Cancelled|   Rachel|     F|           11|   Bailey|  null| paid|Albany-Schenectad...|   GET|Cancellation Conf...|1536102943000|     1059|null|   200|1540402387000|Mozilla/5.0 (Wind...|    73|2018-10-24 19:33:07|\n",
      "|  null|Cancelled|  Jeffery|     M|           46|  Wheeler|  null| paid|         Bozeman, MT|   GET|Cancellation Conf...|1533886191000|     1324|null|   200|1540875543000|\"Mozilla/5.0 (Win...|     3|2018-10-30 05:59:03|\n",
      "|  null|Cancelled|   Sophia|     F|           18|      Key|  null| paid|Los Angeles-Long ...|   GET|Cancellation Conf...|1537679535000|     1383|null|   200|1541166424000|\"Mozilla/5.0 (Mac...|   106|2018-11-02 14:47:04|\n",
      "|  null|Cancelled|    Piper|     F|            8|  Nielsen|  null| paid|New York-Newark-J...|   GET|Cancellation Conf...|1537699856000|     1583|null|   200|1541340091000|\"Mozilla/5.0 (Mac...|   103|2018-11-04 15:01:31|\n",
      "|  null|Cancelled|   Teagan|     F|          306|  Roberts|  null| paid|New Philadelphia-...|   GET|Cancellation Conf...|1537634865000|     1519|null|   200|1541463632000|Mozilla/5.0 (Wind...|    28|2018-11-06 01:20:32|\n",
      "|  null|Cancelled|    Alexi|     F|           42|   Warren|  null| paid|Spokane-Spokane V...|   GET|Cancellation Conf...|1532482662000|     1819|null|   200|1542051608000|Mozilla/5.0 (Wind...|    54|2018-11-12 20:40:08|\n",
      "+------+---------+---------+------+-------------+---------+------+-----+--------------------+------+--------------------+-------------+---------+----+------+-------------+--------------------+------+-------------------+\n",
      "only showing top 20 rows\n",
      "\n"
     ]
    }
   ],
   "source": [
    "# investigate the target feature (page)\n",
    "df.filter(\"page = 'Cancellation Confirmation'\").show(20)"
   ]
  },
  {
   "cell_type": "markdown",
   "metadata": {},
   "source": [
    "Cancellation Confirmation page count in the data for both paid and free users (Churn count)"
   ]
  },
  {
   "cell_type": "code",
   "execution_count": 26,
   "metadata": {
    "ExecuteTime": {
     "end_time": "2021-05-03T00:22:45.980641Z",
     "start_time": "2021-05-03T00:22:40.100577Z"
    }
   },
   "outputs": [
    {
     "name": "stdout",
     "output_type": "stream",
     "text": [
      "52\n"
     ]
    }
   ],
   "source": [
    "churn_count=df.select(['userId','page']).filter(\"page=='Cancellation Confirmation'\").dropDuplicates().count()\n",
    "print(churn_count)"
   ]
  },
  {
   "cell_type": "markdown",
   "metadata": {},
   "source": [
    "Percentage of users churn"
   ]
  },
  {
   "cell_type": "code",
   "execution_count": 27,
   "metadata": {
    "ExecuteTime": {
     "end_time": "2021-05-03T00:22:51.435943Z",
     "start_time": "2021-05-03T00:22:45.982673Z"
    }
   },
   "outputs": [
    {
     "name": "stdout",
     "output_type": "stream",
     "text": [
      "23.008849557522122\n"
     ]
    }
   ],
   "source": [
    "user_churn_rate=churn_count/unique_users.count()*100\n",
    "print(user_churn_rate)"
   ]
  },
  {
   "cell_type": "markdown",
   "metadata": {},
   "source": [
    "#### Create the Target feature"
   ]
  },
  {
   "cell_type": "code",
   "execution_count": 28,
   "metadata": {
    "ExecuteTime": {
     "end_time": "2021-05-03T00:22:51.497640Z",
     "start_time": "2021-05-03T00:22:51.437983Z"
    },
    "id": "2ci2GiO69ibU"
   },
   "outputs": [],
   "source": [
    "## Create the target feature (label)\n",
    "create_label = udf(lambda x: 1 if x == \"Cancellation Confirmation\" else 0, IntegerType())\n",
    "\n",
    "df = df.withColumn(\"Churn\", create_label(\"page\"))\n"
   ]
  },
  {
   "cell_type": "markdown",
   "metadata": {},
   "source": [
    "#### Churn of users - Based on Gender"
   ]
  },
  {
   "cell_type": "code",
   "execution_count": 78,
   "metadata": {
    "ExecuteTime": {
     "end_time": "2021-05-05T17:42:25.881771Z",
     "start_time": "2021-05-05T17:42:17.445719Z"
    }
   },
   "outputs": [
    {
     "data": {
      "text/plain": [
       "[Text(0, 0.5, 'User Count'), Text(0.5, 0, 'Gender')]"
      ]
     },
     "execution_count": 78,
     "metadata": {},
     "output_type": "execute_result"
    },
    {
     "data": {
      "text/plain": [
       "<matplotlib.legend.Legend at 0x7f0f72f80f60>"
      ]
     },
     "execution_count": 78,
     "metadata": {},
     "output_type": "execute_result"
    },
    {
     "name": "stdout",
     "output_type": "stream",
     "text": [
      "  gender  churn  count\n",
      "0      M      1     32\n",
      "1      F      0    104\n",
      "2      F      1     20\n",
      "3      M      0    121\n"
     ]
    },
    {
     "data": {
      "image/png": "[encoded data removed]",
      "text/plain": [
       "<Figure size 720x504 with 1 Axes>"
      ]
     },
     "metadata": {},
     "output_type": "display_data"
    }
   ],
   "source": [
    "gender_churn=df.select(\"userId\",\"gender\",col(\"Churn\").alias(\"churn\")).dropDuplicates().groupby(['gender','churn']).count().toPandas()\n",
    "bar = sns.barplot(x='gender',y='count' ,hue='churn', data=gender_churn, dodge=True)\n",
    "bar.set(xlabel='Gender', ylabel='User Count')\n",
    "bar.legend(['Users','Churned Users'])\n",
    "print(gender_churn)"
   ]
  },
  {
   "cell_type": "markdown",
   "metadata": {},
   "source": [
    "#### Churn of users - Based on Level (Free or paid)"
   ]
  },
  {
   "cell_type": "code",
   "execution_count": 79,
   "metadata": {
    "ExecuteTime": {
     "end_time": "2021-05-05T17:45:22.982754Z",
     "start_time": "2021-05-05T17:45:18.835693Z"
    }
   },
   "outputs": [
    {
     "data": {
      "text/plain": [
       "[Text(0, 0.5, 'User Count'), Text(0.5, 0, 'Level(Free/Paid User)')]"
      ]
     },
     "execution_count": 79,
     "metadata": {},
     "output_type": "execute_result"
    },
    {
     "data": {
      "image/png": "[encoded data removed]",
      "text/plain": [
       "<Figure size 720x504 with 1 Axes>"
      ]
     },
     "metadata": {},
     "output_type": "display_data"
    }
   ],
   "source": [
    "churn_level = df.filter(\"page=='Cancellation Confirmation'\").select(['level',col('Churn') \\\n",
    "                .alias('churn')]).groupby('level').count().toPandas()\n",
    "\n",
    "bar_level = sns.barplot(x='level',y='count',data=churn_level)\n",
    "bar_level.set(xlabel='Level(Free/Paid User)', ylabel='User Count')"
   ]
  },
  {
   "cell_type": "markdown",
   "metadata": {},
   "source": [
    "## Feature Engineering and devide dataset"
   ]
  },
  {
   "cell_type": "markdown",
   "metadata": {},
   "source": [
    "Aggregate data by userID with level, page and gender"
   ]
  },
  {
   "cell_type": "code",
   "execution_count": 85,
   "metadata": {
    "ExecuteTime": {
     "end_time": "2021-05-06T12:58:53.503325Z",
     "start_time": "2021-05-06T12:58:53.474806Z"
    }
   },
   "outputs": [],
   "source": [
    "windowuser = Window.partitionBy('userId').orderBy('ts').rangeBetween(Window.unboundedPreceding, Window.unboundedFollowing)\n",
    "\n",
    "\n",
    "# identify users who cancelled service by getting last page he is on\n",
    "df = df.withColumn(\"endstate\", last(col('page')).over(windowuser))\n"
   ]
  },
  {
   "cell_type": "code",
   "execution_count": 86,
   "metadata": {
    "ExecuteTime": {
     "end_time": "2021-05-06T12:58:54.989204Z",
     "start_time": "2021-05-06T12:58:54.895457Z"
    }
   },
   "outputs": [],
   "source": [
    "df_user = df.groupby('userId')\\\n",
    ".agg(\n",
    "     first(when(col('level') == 'paid', 1).otherwise(0)).alias('level'),\n",
    "     first(when(col('gender') == \"F\", 1).otherwise(0)).alias('gender'),\n",
    "     first(col('endstate')).alias('page')\n",
    ")\n"
   ]
  },
  {
   "cell_type": "code",
   "execution_count": 87,
   "metadata": {
    "ExecuteTime": {
     "end_time": "2021-05-06T12:58:56.320703Z",
     "start_time": "2021-05-06T12:58:56.314692Z"
    }
   },
   "outputs": [
    {
     "data": {
      "text/plain": [
       "<bound method DataFrame.printSchema of DataFrame[userId: string, level: int, gender: int, page: string]>"
      ]
     },
     "execution_count": 87,
     "metadata": {},
     "output_type": "execute_result"
    }
   ],
   "source": [
    "df_user.printSchema"
   ]
  },
  {
   "cell_type": "code",
   "execution_count": 34,
   "metadata": {
    "ExecuteTime": {
     "end_time": "2021-05-03T00:23:08.406699Z",
     "start_time": "2021-05-03T00:23:05.207427Z"
    }
   },
   "outputs": [
    {
     "name": "stdout",
     "output_type": "stream",
     "text": [
      "+------+------+-----+--------------------+\n",
      "|userId|gender|level|                page|\n",
      "+------+------+-----+--------------------+\n",
      "|100010|     1|    0|              Logout|\n",
      "|200002|     0|    0|           Thumbs Up|\n",
      "|   125|     0|    0|Cancellation Conf...|\n",
      "|   124|     1|    1|                Home|\n",
      "|    51|     0|    1|Cancellation Conf...|\n",
      "+------+------+-----+--------------------+\n",
      "only showing top 5 rows\n",
      "\n"
     ]
    }
   ],
   "source": [
    "# rows in a aggregated dataset\n",
    "df_user.select(['userId','gender','level', 'page']).show(5)"
   ]
  },
  {
   "cell_type": "code",
   "execution_count": 88,
   "metadata": {
    "ExecuteTime": {
     "end_time": "2021-05-06T12:59:02.237658Z",
     "start_time": "2021-05-06T12:59:00.114860Z"
    }
   },
   "outputs": [
    {
     "name": "stdout",
     "output_type": "stream",
     "text": [
      "+------+-----+------+--------------------+--------------------+\n",
      "|userId|level|gender|                page|               Churn|\n",
      "+------+-----+------+--------------------+--------------------+\n",
      "|100010|    0|     1|              Logout|                  na|\n",
      "|200002|    0|     0|           Thumbs Up|                  na|\n",
      "|   125|    0|     0|Cancellation Conf...|Cancellation Conf...|\n",
      "|   124|    1|     1|                Home|                  na|\n",
      "|    51|    1|     0|Cancellation Conf...|Cancellation Conf...|\n",
      "|     7|    0|     0|           Thumbs Up|                  na|\n",
      "|    15|    1|     0|            NextSong|                  na|\n",
      "|    54|    1|     1|Cancellation Conf...|Cancellation Conf...|\n",
      "|   155|    0|     1|                Home|                  na|\n",
      "|100014|    1|     0|Cancellation Conf...|Cancellation Conf...|\n",
      "+------+-----+------+--------------------+--------------------+\n",
      "only showing top 10 rows\n",
      "\n"
     ]
    }
   ],
   "source": [
    "# Create target feature on aggrigated dataset\n",
    "df_user = df_user.withColumn('Churn', when(df_user.page == \"Cancellation Confirmation\", \"Cancellation Confirmation\" ).otherwise(\"na\"))\n",
    "\n",
    "df_user.show(10)"
   ]
  },
  {
   "cell_type": "markdown",
   "metadata": {},
   "source": [
    "add features and convert to vector form"
   ]
  },
  {
   "cell_type": "code",
   "execution_count": 89,
   "metadata": {
    "ExecuteTime": {
     "end_time": "2021-05-06T12:59:02.288298Z",
     "start_time": "2021-05-06T12:59:02.239492Z"
    },
    "id": "RLbnsFuD-xZL"
   },
   "outputs": [],
   "source": [
    "\n",
    "indexer = StringIndexer(inputCol=\"Churn\", outputCol=\"label\")\n",
    "\n",
    "# Adding the two binary features\n",
    "binary_columns = ['level', 'gender']\n",
    "total_assembler = VectorAssembler(inputCols = binary_columns , outputCol = \"features\")"
   ]
  },
  {
   "cell_type": "markdown",
   "metadata": {},
   "source": [
    "Split data into 3 sets. Train, validation and test"
   ]
  },
  {
   "cell_type": "code",
   "execution_count": 91,
   "metadata": {
    "ExecuteTime": {
     "end_time": "2021-05-06T12:59:16.652485Z",
     "start_time": "2021-05-06T12:59:16.643339Z"
    },
    "code_folding": [],
    "id": "BRjs6Taq_O3b"
   },
   "outputs": [],
   "source": [
    "# devide data into train & test\n",
    "train, test_val = df_user.randomSplit([0.6, 0.4], seed=42)\n",
    "validation, test = test_val.randomSplit([0.5, 0.5], seed=123)\n"
   ]
  },
  {
   "cell_type": "markdown",
   "metadata": {
    "id": "1fq_hDgFlioa"
   },
   "source": [
    "## Modeling"
   ]
  },
  {
   "cell_type": "markdown",
   "metadata": {},
   "source": [
    "### Logistic Regression Model"
   ]
  },
  {
   "cell_type": "code",
   "execution_count": 118,
   "metadata": {
    "ExecuteTime": {
     "end_time": "2021-05-06T13:36:39.119639Z",
     "start_time": "2021-05-06T13:36:39.108656Z"
    },
    "id": "VBrwu29i_Avb"
   },
   "outputs": [],
   "source": [
    "#initiate logistic regression classification model\n",
    "\n",
    "lr =  LogisticRegression(maxIter=10, elasticNetParam=0.1)\n",
    "pipeline_lr = Pipeline(stages = [total_assembler,indexer, lr])\n"
   ]
  },
  {
   "cell_type": "code",
   "execution_count": 119,
   "metadata": {
    "ExecuteTime": {
     "end_time": "2021-05-06T13:36:40.283740Z",
     "start_time": "2021-05-06T13:36:40.275660Z"
    },
    "id": "RhTdvnZJ_SKr"
   },
   "outputs": [],
   "source": [
    "param = ParamGridBuilder().addGrid(lr.regParam,[0.0,0.1]).build()\n",
    "\n",
    "crossval = CrossValidator(estimator=pipeline_lr,\n",
    "                          estimatorParamMaps=param,\n",
    "                          evaluator=MulticlassClassificationEvaluator(),\n",
    "                          numFolds=3)"
   ]
  },
  {
   "cell_type": "code",
   "execution_count": 120,
   "metadata": {
    "ExecuteTime": {
     "end_time": "2021-05-06T13:40:38.064002Z",
     "start_time": "2021-05-06T13:36:41.615367Z"
    },
    "id": "V6KvSrlW_WA6"
   },
   "outputs": [],
   "source": [
    "start_time_lr =time()\n",
    "\n",
    "# train model\n",
    "model = crossval.fit(train)\n",
    "end_time_lr = time()"
   ]
  },
  {
   "cell_type": "markdown",
   "metadata": {},
   "source": [
    "Time to train logistic regression model "
   ]
  },
  {
   "cell_type": "code",
   "execution_count": 121,
   "metadata": {
    "ExecuteTime": {
     "end_time": "2021-05-06T13:43:56.577818Z",
     "start_time": "2021-05-06T13:43:56.574550Z"
    }
   },
   "outputs": [
    {
     "name": "stdout",
     "output_type": "stream",
     "text": [
      "236.4459149837494\n"
     ]
    }
   ],
   "source": [
    "print(end_time_lr-start_time_lr)"
   ]
  },
  {
   "cell_type": "code",
   "execution_count": 122,
   "metadata": {
    "ExecuteTime": {
     "end_time": "2021-05-06T13:44:02.263231Z",
     "start_time": "2021-05-06T13:44:02.175360Z"
    }
   },
   "outputs": [],
   "source": [
    "train_output_df = model.transform(train)\n",
    "validation_output_df = model.transform(validation)\n",
    "test_output_df = model.transform(test)"
   ]
  },
  {
   "cell_type": "code",
   "execution_count": 123,
   "metadata": {
    "ExecuteTime": {
     "end_time": "2021-05-06T13:44:03.375509Z",
     "start_time": "2021-05-06T13:44:03.360811Z"
    }
   },
   "outputs": [],
   "source": [
    "train_predictionAndLabels = train_output_df.select(\"prediction\", \"label\")\n",
    "validation_predictionAndLabels = validation_output_df.select(\"prediction\", \"label\")\n",
    "test_predictionAndLabels = test_output_df.select(\"prediction\", \"label\")"
   ]
  },
  {
   "cell_type": "code",
   "execution_count": 124,
   "metadata": {
    "ExecuteTime": {
     "end_time": "2021-05-06T13:44:04.278505Z",
     "start_time": "2021-05-06T13:44:04.275732Z"
    }
   },
   "outputs": [],
   "source": [
    "# evaluation metrics types\n",
    "metrics = ['weightedPrecision', 'weightedRecall', 'accuracy', 'f1']"
   ]
  },
  {
   "cell_type": "code",
   "execution_count": 125,
   "metadata": {
    "ExecuteTime": {
     "end_time": "2021-05-06T13:46:16.049782Z",
     "start_time": "2021-05-06T13:44:05.752133Z"
    },
    "scrolled": true
   },
   "outputs": [
    {
     "name": "stdout",
     "output_type": "stream",
     "text": [
      "Train weightedPrecision = 0.6244315125434007\n",
      "Validation weightedPrecision = 0.6327479338842975\n",
      "Test weightedPrecision = 0.4444444444444444\n",
      "Train weightedRecall = 0.7902097902097902\n",
      "Validation weightedRecall = 0.7954545454545454\n",
      "Test weightedRecall = 0.6666666666666666\n",
      "Train accuracy = 0.7902097902097902\n",
      "Validation accuracy = 0.7954545454545454\n",
      "Test accuracy = 0.6666666666666666\n",
      "Train f1 = 0.6976070804195804\n",
      "Validation f1 = 0.7048331415420023\n",
      "Test f1 = 0.5333333333333333\n"
     ]
    }
   ],
   "source": [
    "for metric in metrics:\n",
    "    evaluator = MulticlassClassificationEvaluator(metricName=metric)\n",
    "    print('Train ' + metric + ' = ' + str(evaluator.evaluate(train_predictionAndLabels)))\n",
    "    print('Validation ' + metric + ' = ' + str(evaluator.evaluate(validation_predictionAndLabels)))\n",
    "    print('Test ' + metric + ' = ' + str(evaluator.evaluate(test_predictionAndLabels)))\n"
   ]
  },
  {
   "cell_type": "code",
   "execution_count": 126,
   "metadata": {
    "ExecuteTime": {
     "end_time": "2021-05-06T13:46:30.094202Z",
     "start_time": "2021-05-06T13:46:18.077912Z"
    },
    "colab": {
     "base_uri": "https://localhost:8080/"
    },
    "id": "HaPETeoN_f9U",
    "outputId": "3590cf99-1e65-4f08-cb4d-03c3b0684e2f"
   },
   "outputs": [
    {
     "name": "stdout",
     "output_type": "stream",
     "text": [
      "26\n",
      "39\n"
     ]
    }
   ],
   "source": [
    "#print correct predictions\n",
    "print(test_output_df.filter(test_output_df.label == test_output_df.prediction).count())\n",
    "print(test_output_df.count())"
   ]
  },
  {
   "cell_type": "code",
   "execution_count": 127,
   "metadata": {
    "ExecuteTime": {
     "end_time": "2021-05-06T13:46:30.109607Z",
     "start_time": "2021-05-06T13:46:30.097031Z"
    },
    "id": "7blpHmik_5Lo"
   },
   "outputs": [],
   "source": [
    "pr = BinaryClassificationEvaluator(metricName='areaUnderPR')\n",
    "roc = BinaryClassificationEvaluator(metricName='areaUnderROC')\n",
    "\n",
    "def custom_evaluation(pred, model_name):\n",
    "\n",
    "    pr = BinaryClassificationEvaluator(metricName='areaUnderPR')\n",
    "    pr_auc=pr.evaluate(pred)\n",
    "    print(f\"{model_name} -> PR AUC: {pr_auc}\")\n",
    "    predictionRDD = pred.select(['label', 'prediction']).rdd\\\n",
    "                        .map(lambda line: (line[1], line[0]))\n",
    "    metrics = MulticlassMetrics(predictionRDD)\n",
    "    conf_matrix = metrics.confusionMatrix().toArray()\n",
    "    sns.set(font_scale=1.4)\n",
    "    ax = sns.heatmap(conf_matrix, annot=True,annot_kws={\"size\": 16})\n",
    "    ax.set(xlabel='Predicted Label', ylabel='True Label', title='Confusion Mtx')\n",
    "    plt.show()"
   ]
  },
  {
   "cell_type": "code",
   "execution_count": 128,
   "metadata": {
    "ExecuteTime": {
     "end_time": "2021-05-06T13:47:00.310634Z",
     "start_time": "2021-05-06T13:46:30.111716Z"
    },
    "colab": {
     "base_uri": "https://localhost:8080/",
     "height": 495
    },
    "id": "bdMtcMOc_5Ob",
    "outputId": "bbff911a-9aa9-4723-cad9-7d9cde93f1bf"
   },
   "outputs": [
    {
     "name": "stdout",
     "output_type": "stream",
     "text": [
      "logistic regression -> PR AUC: 0.3767260883133094\n"
     ]
    },
    {
     "data": {
      "image/png": "[encoded data removed]",
      "text/plain": [
       "<Figure size 720x504 with 2 Axes>"
      ]
     },
     "metadata": {},
     "output_type": "display_data"
    }
   ],
   "source": [
    "custom_evaluation(test_output_df, 'logistic regression')"
   ]
  },
  {
   "cell_type": "markdown",
   "metadata": {},
   "source": [
    "### Decision Tree Classifier"
   ]
  },
  {
   "cell_type": "code",
   "execution_count": 103,
   "metadata": {
    "ExecuteTime": {
     "end_time": "2021-05-06T13:12:47.851765Z",
     "start_time": "2021-05-06T13:08:14.835601Z"
    }
   },
   "outputs": [],
   "source": [
    "dt = DecisionTreeClassifier()\n",
    "pipeline_dt = Pipeline(stages=[total_assembler,indexer, dt])\n",
    "\n",
    "\n",
    "param_dt = ParamGridBuilder() \\\n",
    "    .addGrid(dt.impurity,['entropy']) \\\n",
    "    .addGrid(dt.maxDepth,[3,5,7,9]) \\\n",
    "    .build()\n",
    "\n",
    "\n",
    "cv_dt = CrossValidator(estimator=pipeline_dt,\n",
    "                          estimatorParamMaps=param_dt,\n",
    "                          evaluator=MulticlassClassificationEvaluator(),\n",
    "                          numFolds=3)\n",
    "\n",
    "\n",
    "start_time_dt = time()\n",
    "# train the model\n",
    "dt_model = cv_dt.fit(train)\n",
    "end_time_dt = time()\n"
   ]
  },
  {
   "cell_type": "markdown",
   "metadata": {},
   "source": [
    "Time to train decision tree classifier model"
   ]
  },
  {
   "cell_type": "code",
   "execution_count": 104,
   "metadata": {
    "ExecuteTime": {
     "end_time": "2021-05-06T13:13:51.498516Z",
     "start_time": "2021-05-06T13:13:51.494611Z"
    }
   },
   "outputs": [
    {
     "name": "stdout",
     "output_type": "stream",
     "text": [
      "273.00305104255676\n"
     ]
    }
   ],
   "source": [
    "print(end_time_dt-start_time_dt)"
   ]
  },
  {
   "cell_type": "code",
   "execution_count": 105,
   "metadata": {
    "ExecuteTime": {
     "end_time": "2021-05-06T13:13:53.311282Z",
     "start_time": "2021-05-06T13:13:53.171817Z"
    }
   },
   "outputs": [],
   "source": [
    "train_output_dt = dt_model.transform(train)\n",
    "validation_output_dt = dt_model.transform(validation)\n",
    "test_output_dt = dt_model.transform(test)"
   ]
  },
  {
   "cell_type": "code",
   "execution_count": 106,
   "metadata": {
    "ExecuteTime": {
     "end_time": "2021-05-06T13:13:55.319093Z",
     "start_time": "2021-05-06T13:13:55.299868Z"
    }
   },
   "outputs": [],
   "source": [
    "train_predictionAndLabels_dt = train_output_dt.select(\"prediction\", \"label\")\n",
    "validation_predictionAndLabels_dt = validation_output_dt.select(\"prediction\",\"label\")\n",
    "test_predictionAndLabels_dt = test_output_dt.select(\"prediction\", \"label\")"
   ]
  },
  {
   "cell_type": "code",
   "execution_count": 107,
   "metadata": {
    "ExecuteTime": {
     "end_time": "2021-05-06T13:16:31.490363Z",
     "start_time": "2021-05-06T13:13:56.715362Z"
    }
   },
   "outputs": [
    {
     "name": "stdout",
     "output_type": "stream",
     "text": [
      "Train weightedPrecision = 0.6244315125434007\n",
      "Validation weightedPrecision = 0.6327479338842975\n",
      "Test weightedPrecision = 0.4444444444444444\n",
      "Train weightedRecall = 0.7902097902097902\n",
      "Validation weightedRecall = 0.7954545454545454\n",
      "Test weightedRecall = 0.6666666666666666\n",
      "Train accuracy = 0.7902097902097902\n",
      "Validation accuracy = 0.7954545454545454\n",
      "Test accuracy = 0.6666666666666666\n",
      "Train f1 = 0.6976070804195804\n",
      "Validation f1 = 0.7048331415420023\n",
      "Test f1 = 0.5333333333333333\n"
     ]
    }
   ],
   "source": [
    "for metric in metrics:\n",
    "    evaluator = MulticlassClassificationEvaluator(metricName=metric)\n",
    "    print('Train ' + metric + ' = ' + str(evaluator.evaluate(train_predictionAndLabels_dt)))\n",
    "    print('Validation ' + metric + ' = ' + str(evaluator.evaluate(validation_predictionAndLabels_dt)))\n",
    "    print('Test ' + metric + ' = ' + str(evaluator.evaluate(test_predictionAndLabels_dt)))"
   ]
  },
  {
   "cell_type": "code",
   "execution_count": 108,
   "metadata": {
    "ExecuteTime": {
     "end_time": "2021-05-06T13:19:31.183373Z",
     "start_time": "2021-05-06T13:18:59.156479Z"
    },
    "scrolled": true
   },
   "outputs": [
    {
     "name": "stdout",
     "output_type": "stream",
     "text": [
      "Decision Tree -> PR AUC: 0.3333333333333333\n"
     ]
    },
    {
     "data": {
      "image/png": "[encoded data removed]",
      "text/plain": [
       "<Figure size 720x504 with 2 Axes>"
      ]
     },
     "metadata": {},
     "output_type": "display_data"
    }
   ],
   "source": [
    "custom_evaluation(test_output_dt, 'Decision Tree')"
   ]
  },
  {
   "cell_type": "markdown",
   "metadata": {},
   "source": [
    "### SVM"
   ]
  },
  {
   "cell_type": "code",
   "execution_count": 109,
   "metadata": {
    "ExecuteTime": {
     "end_time": "2021-05-06T13:21:32.561870Z",
     "start_time": "2021-05-06T13:21:32.554470Z"
    }
   },
   "outputs": [],
   "source": [
    "svm = LinearSVC()\n",
    "\n",
    "pipeline_svm = Pipeline(stages=[total_assembler,indexer, svm])\n"
   ]
  },
  {
   "cell_type": "code",
   "execution_count": 110,
   "metadata": {
    "ExecuteTime": {
     "end_time": "2021-05-06T13:21:38.929349Z",
     "start_time": "2021-05-06T13:21:38.922054Z"
    }
   },
   "outputs": [],
   "source": [
    "\n",
    "param_svm = ParamGridBuilder() \\\n",
    "    .addGrid(svm.maxIter,[5]) \\\n",
    "    .addGrid(svm.regParam,[0.0,0.1]) \\\n",
    "    .build()\n",
    "\n",
    "cv_svm = CrossValidator(estimator=pipeline_svm,\n",
    "                          estimatorParamMaps=param_svm,\n",
    "                          evaluator=MulticlassClassificationEvaluator(),\n",
    "                          numFolds=3)\n",
    "\n"
   ]
  },
  {
   "cell_type": "code",
   "execution_count": 111,
   "metadata": {
    "ExecuteTime": {
     "end_time": "2021-05-06T13:31:08.606620Z",
     "start_time": "2021-05-06T13:21:41.194801Z"
    }
   },
   "outputs": [],
   "source": [
    "start_time_svm = time()\n",
    "\n",
    "# train model\n",
    "svm_model = cv_svm.fit(train)\n",
    "\n",
    "end_time_svm = time()"
   ]
  },
  {
   "cell_type": "markdown",
   "metadata": {},
   "source": [
    "Time to train SVM model"
   ]
  },
  {
   "cell_type": "code",
   "execution_count": 112,
   "metadata": {
    "ExecuteTime": {
     "end_time": "2021-05-06T13:32:55.558675Z",
     "start_time": "2021-05-06T13:32:55.554965Z"
    }
   },
   "outputs": [
    {
     "name": "stdout",
     "output_type": "stream",
     "text": [
      "567.4080784320831\n"
     ]
    }
   ],
   "source": [
    "print(end_time_svm-start_time_svm)"
   ]
  },
  {
   "cell_type": "code",
   "execution_count": 113,
   "metadata": {
    "ExecuteTime": {
     "end_time": "2021-05-06T13:33:09.927451Z",
     "start_time": "2021-05-06T13:33:09.834408Z"
    }
   },
   "outputs": [],
   "source": [
    "train_output_svm = svm_model.transform(train)\n",
    "validation_output_svm = svm_model.transform(validation)\n",
    "test_output_svm = svm_model.transform(test)"
   ]
  },
  {
   "cell_type": "code",
   "execution_count": 114,
   "metadata": {
    "ExecuteTime": {
     "end_time": "2021-05-06T13:33:11.192113Z",
     "start_time": "2021-05-06T13:33:11.174806Z"
    }
   },
   "outputs": [],
   "source": [
    "train_predictionAndLabels_svm = train_output_svm.select(\"prediction\", \"label\")\n",
    "validation_predictionAndLabels_svm = validation_output_svm.select(\"prediction\",\"label\")\n",
    "test_predictionAndLabels_svm = test_output_svm.select(\"prediction\", \"label\")"
   ]
  },
  {
   "cell_type": "code",
   "execution_count": 115,
   "metadata": {
    "ExecuteTime": {
     "end_time": "2021-05-06T13:35:02.617974Z",
     "start_time": "2021-05-06T13:33:12.774787Z"
    }
   },
   "outputs": [
    {
     "name": "stdout",
     "output_type": "stream",
     "text": [
      "Train weightedPrecision = 0.6244315125434007\n",
      "Validation weightedPrecision = 0.6327479338842975\n",
      "Test weightedPrecision = 0.4444444444444444\n",
      "Train weightedRecall = 0.7902097902097902\n",
      "Validation weightedRecall = 0.7954545454545454\n",
      "Test weightedRecall = 0.6666666666666666\n",
      "Train accuracy = 0.7902097902097902\n",
      "Validation accuracy = 0.7954545454545454\n",
      "Test accuracy = 0.6666666666666666\n",
      "Train f1 = 0.6976070804195804\n",
      "Validation f1 = 0.7048331415420023\n",
      "Test f1 = 0.5333333333333333\n"
     ]
    }
   ],
   "source": [
    "for metric in metrics:\n",
    "    evaluator = MulticlassClassificationEvaluator(metricName=metric)\n",
    "    print('Train ' + metric + ' = ' + str(evaluator.evaluate(train_predictionAndLabels_svm)))\n",
    "    print('Validation ' + metric + ' = ' + str(evaluator.evaluate(validation_predictionAndLabels_svm)))\n",
    "    print('Test ' + metric + ' = ' + str(evaluator.evaluate(test_predictionAndLabels_svm)))"
   ]
  },
  {
   "cell_type": "code",
   "execution_count": 116,
   "metadata": {
    "ExecuteTime": {
     "end_time": "2021-05-06T13:36:00.800921Z",
     "start_time": "2021-05-06T13:35:28.844049Z"
    },
    "scrolled": true
   },
   "outputs": [
    {
     "name": "stdout",
     "output_type": "stream",
     "text": [
      "SVM -> PR AUC: 0.3767260883133094\n"
     ]
    },
    {
     "data": {
      "image/png": "[encoded data removed]",
      "text/plain": [
       "<Figure size 720x504 with 2 Axes>"
      ]
     },
     "metadata": {},
     "output_type": "display_data"
    }
   ],
   "source": [
    "custom_evaluation(test_output_svm, 'SVM')"
   ]
  },
  {
   "cell_type": "code",
   "execution_count": null,
   "metadata": {},
   "outputs": [],
   "source": []
  }
 ],
 "metadata": {
  "colab": {
   "collapsed_sections": [],
   "name": "final.ipynb",
   "provenance": [],
   "toc_visible": true
  },
  "kernelspec": {
   "display_name": "Python 3",
   "language": "python",
   "name": "python3"
  },
  "language_info": {
   "codemirror_mode": {
    "name": "ipython",
    "version": 3
   },
   "file_extension": ".py",
   "mimetype": "text/x-python",
   "name": "python",
   "nbconvert_exporter": "python",
   "pygments_lexer": "ipython3",
   "version": "3.6.7"
  },
  "toc": {
   "base_numbering": 1,
   "nav_menu": {},
   "number_sections": true,
   "sideBar": true,
   "skip_h1_title": false,
   "title_cell": "Table of Contents",
   "title_sidebar": "Contents",
   "toc_cell": false,
   "toc_position": {},
   "toc_section_display": true,
   "toc_window_display": false
  }
 },
 "nbformat": 4,
 "nbformat_minor": 1
}
